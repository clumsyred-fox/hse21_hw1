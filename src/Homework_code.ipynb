{
 "cells": [
  {
   "cell_type": "code",
   "execution_count": 1,
   "id": "edc5ee0c",
   "metadata": {},
   "outputs": [],
   "source": [
    "import pandas as pd\n",
    "import re\n",
    "from Bio import SeqIO\n",
    "from Bio.Seq import Seq\n",
    "from Bio.SeqRecord import SeqRecord"
   ]
  },
  {
   "cell_type": "code",
   "execution_count": 2,
   "id": "7643b75c",
   "metadata": {},
   "outputs": [
    {
     "data": {
      "text/html": [
       "<div>\n",
       "<style scoped>\n",
       "    .dataframe tbody tr th:only-of-type {\n",
       "        vertical-align: middle;\n",
       "    }\n",
       "\n",
       "    .dataframe tbody tr th {\n",
       "        vertical-align: top;\n",
       "    }\n",
       "\n",
       "    .dataframe thead th {\n",
       "        text-align: right;\n",
       "    }\n",
       "</style>\n",
       "<table border=\"1\" class=\"dataframe\">\n",
       "  <thead>\n",
       "    <tr style=\"text-align: right;\">\n",
       "      <th></th>\n",
       "      <th>accession</th>\n",
       "      <th>sequence</th>\n",
       "      <th>len</th>\n",
       "    </tr>\n",
       "  </thead>\n",
       "  <tbody>\n",
       "    <tr>\n",
       "      <th>0</th>\n",
       "      <td>seq297_len158992_cov236</td>\n",
       "      <td>CGGCTTTAAAATCACGCGATGCATCAATAAACATCACAGAATCGTC...</td>\n",
       "      <td>158992</td>\n",
       "    </tr>\n",
       "    <tr>\n",
       "      <th>1</th>\n",
       "      <td>seq35_len105001_cov236</td>\n",
       "      <td>TTGTGGCTTTGCGTTCACCCTGCTATCTCCCGCCGCTCAACGCTAC...</td>\n",
       "      <td>105001</td>\n",
       "    </tr>\n",
       "    <tr>\n",
       "      <th>2</th>\n",
       "      <td>seq521_len100999_cov244</td>\n",
       "      <td>TTCAGTGACTGCGAAAGATGCAGCGGGTAATGAATCTCCAGCGACT...</td>\n",
       "      <td>100999</td>\n",
       "    </tr>\n",
       "    <tr>\n",
       "      <th>3</th>\n",
       "      <td>seq402_len91913_cov236</td>\n",
       "      <td>CAGAAGATAGCGATATCGGTATCGGTGACGTCAATCGCAAGCGTTG...</td>\n",
       "      <td>91913</td>\n",
       "    </tr>\n",
       "    <tr>\n",
       "      <th>4</th>\n",
       "      <td>seq548_len89248_cov219</td>\n",
       "      <td>AGCGAGCCGCCGCAAGAAGGTGATTGGTGTGGCGGAAGTCGAGCAG...</td>\n",
       "      <td>89248</td>\n",
       "    </tr>\n",
       "    <tr>\n",
       "      <th>...</th>\n",
       "      <td>...</td>\n",
       "      <td>...</td>\n",
       "      <td>...</td>\n",
       "    </tr>\n",
       "    <tr>\n",
       "      <th>616</th>\n",
       "      <td>seq2_len87_cov211</td>\n",
       "      <td>AAAAAAAAAAAAAAAAAAAAAAAAAAAAAAAAAAAAAAAAAAAAAA...</td>\n",
       "      <td>87</td>\n",
       "    </tr>\n",
       "    <tr>\n",
       "      <th>617</th>\n",
       "      <td>seq540_len87_cov463</td>\n",
       "      <td>CCTAAACAGGATATGCCTGAGGGAATCCCAATGCGTCTTACTGACT...</td>\n",
       "      <td>87</td>\n",
       "    </tr>\n",
       "    <tr>\n",
       "      <th>618</th>\n",
       "      <td>seq351_len87_cov463</td>\n",
       "      <td>CCCCATGCGCATCGGTCTTCTTCGCTTGAATTTCATCTGTATCAAA...</td>\n",
       "      <td>87</td>\n",
       "    </tr>\n",
       "    <tr>\n",
       "      <th>619</th>\n",
       "      <td>seq362_len87_cov295</td>\n",
       "      <td>GTGTGACATTGTAGGAGCGAAACTTTTTCGCGAATAGCGTCTCGGT...</td>\n",
       "      <td>87</td>\n",
       "    </tr>\n",
       "    <tr>\n",
       "      <th>620</th>\n",
       "      <td>seq1_len87_cov219</td>\n",
       "      <td>ATGGAGCACGCCGTCGCTTTGCAAATAATCAATCATGGCTTGCTTC...</td>\n",
       "      <td>87</td>\n",
       "    </tr>\n",
       "  </tbody>\n",
       "</table>\n",
       "<p>621 rows × 3 columns</p>\n",
       "</div>"
      ],
      "text/plain": [
       "                   accession  \\\n",
       "0    seq297_len158992_cov236   \n",
       "1     seq35_len105001_cov236   \n",
       "2    seq521_len100999_cov244   \n",
       "3     seq402_len91913_cov236   \n",
       "4     seq548_len89248_cov219   \n",
       "..                       ...   \n",
       "616        seq2_len87_cov211   \n",
       "617      seq540_len87_cov463   \n",
       "618      seq351_len87_cov463   \n",
       "619      seq362_len87_cov295   \n",
       "620        seq1_len87_cov219   \n",
       "\n",
       "                                              sequence     len  \n",
       "0    CGGCTTTAAAATCACGCGATGCATCAATAAACATCACAGAATCGTC...  158992  \n",
       "1    TTGTGGCTTTGCGTTCACCCTGCTATCTCCCGCCGCTCAACGCTAC...  105001  \n",
       "2    TTCAGTGACTGCGAAAGATGCAGCGGGTAATGAATCTCCAGCGACT...  100999  \n",
       "3    CAGAAGATAGCGATATCGGTATCGGTGACGTCAATCGCAAGCGTTG...   91913  \n",
       "4    AGCGAGCCGCCGCAAGAAGGTGATTGGTGTGGCGGAAGTCGAGCAG...   89248  \n",
       "..                                                 ...     ...  \n",
       "616  AAAAAAAAAAAAAAAAAAAAAAAAAAAAAAAAAAAAAAAAAAAAAA...      87  \n",
       "617  CCTAAACAGGATATGCCTGAGGGAATCCCAATGCGTCTTACTGACT...      87  \n",
       "618  CCCCATGCGCATCGGTCTTCTTCGCTTGAATTTCATCTGTATCAAA...      87  \n",
       "619  GTGTGACATTGTAGGAGCGAAACTTTTTCGCGAATAGCGTCTCGGT...      87  \n",
       "620  ATGGAGCACGCCGTCGCTTTGCAAATAATCAATCATGGCTTGCTTC...      87  \n",
       "\n",
       "[621 rows x 3 columns]"
      ]
     },
     "execution_count": 2,
     "metadata": {},
     "output_type": "execute_result"
    }
   ],
   "source": [
    "def data(path):\n",
    "    df = pd.read_csv(path, sep='>', lineterminator='>', \n",
    "                     header=None, squeeze=True).str.extract('\\A(?P<accession>\\S+)\\s+(?P<sequence>[\\S\\n]+)\\s*\\Z', expand=True)\n",
    "    df = df.applymap(lambda x: x.replace(\"\\n\", \"\"))\n",
    "    df['len'] = df[\"sequence\"].apply(len)\n",
    "    return df.sort_values(by=\"len\", ascending=False).reset_index(drop=True)\n",
    "data(\"trim/Poil_contig.fa\")"
   ]
  },
  {
   "cell_type": "code",
   "execution_count": 3,
   "id": "fb84adea",
   "metadata": {},
   "outputs": [],
   "source": [
    "cont = data(\"trim/Poil_contig.fa\")\n",
    "scaf = data(\"trim/Poil_scaffold.fa\")\n",
    "clos = data(\"trim/Poil_gapClosed.fa\")"
   ]
  },
  {
   "cell_type": "markdown",
   "id": "36c0b2f8",
   "metadata": {},
   "source": [
    "## Contigs"
   ]
  },
  {
   "cell_type": "code",
   "execution_count": 4,
   "id": "e5bb8a16",
   "metadata": {},
   "outputs": [
    {
     "name": "stdout",
     "output_type": "stream",
     "text": [
      "Всего контигов: 621\n"
     ]
    }
   ],
   "source": [
    "print(\"Всего контигов:\", len(cont))"
   ]
  },
  {
   "cell_type": "code",
   "execution_count": 5,
   "id": "8af2eaeb",
   "metadata": {},
   "outputs": [
    {
     "name": "stdout",
     "output_type": "stream",
     "text": [
      "Размер самого длинного контига: 158992\n"
     ]
    }
   ],
   "source": [
    "print(\"Размер самого длинного контига:\", len(cont.iloc[0,1]))"
   ]
  },
  {
   "cell_type": "code",
   "execution_count": 6,
   "id": "6df45e88",
   "metadata": {},
   "outputs": [
    {
     "name": "stdout",
     "output_type": "stream",
     "text": [
      "Общая длина: 3926082\n"
     ]
    }
   ],
   "source": [
    "print(\"Общая длина:\", cont['len'].sum())"
   ]
  },
  {
   "cell_type": "code",
   "execution_count": 7,
   "id": "f110169c",
   "metadata": {},
   "outputs": [
    {
     "name": "stdout",
     "output_type": "stream",
     "text": [
      "N50 = 50103\n"
     ]
    }
   ],
   "source": [
    "summ = 0\n",
    "for elem in cont['len']:\n",
    "    summ += elem\n",
    "    if summ >= (cont['len'].sum() / 2):\n",
    "        print(\"N50 =\", elem)\n",
    "        break"
   ]
  },
  {
   "cell_type": "markdown",
   "id": "8ec21052",
   "metadata": {},
   "source": [
    "## Scaffolds"
   ]
  },
  {
   "cell_type": "code",
   "execution_count": 8,
   "id": "fbdd170c",
   "metadata": {},
   "outputs": [
    {
     "name": "stdout",
     "output_type": "stream",
     "text": [
      "Всего скаффолдов: 99\n"
     ]
    }
   ],
   "source": [
    "print(\"Всего скаффолдов:\", len(scaf))"
   ]
  },
  {
   "cell_type": "code",
   "execution_count": 9,
   "id": "56fc75b3",
   "metadata": {},
   "outputs": [
    {
     "name": "stdout",
     "output_type": "stream",
     "text": [
      "Размер самого длинного скаффолда: 383582\n"
     ]
    }
   ],
   "source": [
    "print(\"Размер самого длинного скаффолда:\", len(scaf.iloc[0,1]))"
   ]
  },
  {
   "cell_type": "code",
   "execution_count": 10,
   "id": "dfee44e2",
   "metadata": {},
   "outputs": [
    {
     "name": "stdout",
     "output_type": "stream",
     "text": [
      "Общая длина: 3870080\n"
     ]
    }
   ],
   "source": [
    "print(\"Общая длина:\", scaf['len'].sum())"
   ]
  },
  {
   "cell_type": "code",
   "execution_count": 11,
   "id": "045536f9",
   "metadata": {},
   "outputs": [
    {
     "name": "stdout",
     "output_type": "stream",
     "text": [
      "N50 = 173397\n"
     ]
    }
   ],
   "source": [
    "summ = 0\n",
    "for elem in scaf['len']:\n",
    "    summ += elem\n",
    "    if summ >= (scaf['len'].sum() / 2):\n",
    "        print(\"N50 =\", elem)\n",
    "        break"
   ]
  },
  {
   "cell_type": "code",
   "execution_count": 12,
   "id": "a8a09f76",
   "metadata": {},
   "outputs": [
    {
     "name": "stdout",
     "output_type": "stream",
     "text": [
      "Число гэпов: 2\n"
     ]
    }
   ],
   "source": [
    "print(\"Число гэпов:\", len(re.findall(\"N+\", scaf['sequence'][0])))"
   ]
  },
  {
   "cell_type": "code",
   "execution_count": 13,
   "id": "32cb04e3",
   "metadata": {},
   "outputs": [
    {
     "name": "stdout",
     "output_type": "stream",
     "text": [
      "Суммарная длина гэпов: 27\n"
     ]
    }
   ],
   "source": [
    "print(\"Суммарная длина гэпов:\", scaf['sequence'][0].count(\"N\"))"
   ]
  },
  {
   "cell_type": "markdown",
   "id": "9df63bcb",
   "metadata": {},
   "source": [
    "## GapClosed"
   ]
  },
  {
   "cell_type": "code",
   "execution_count": 14,
   "id": "de44787a",
   "metadata": {},
   "outputs": [
    {
     "name": "stdout",
     "output_type": "stream",
     "text": [
      "Всего скаффолдов: 99\n"
     ]
    }
   ],
   "source": [
    "print(\"Всего скаффолдов:\", len(clos))"
   ]
  },
  {
   "cell_type": "code",
   "execution_count": 15,
   "id": "7f61d65b",
   "metadata": {},
   "outputs": [
    {
     "name": "stdout",
     "output_type": "stream",
     "text": [
      "Размер самого длинного скаффолда: 383574\n"
     ]
    }
   ],
   "source": [
    "print(\"Размер самого длинного скаффолда:\", len(clos.iloc[0,1]))"
   ]
  },
  {
   "cell_type": "code",
   "execution_count": 16,
   "id": "59090304",
   "metadata": {},
   "outputs": [
    {
     "name": "stdout",
     "output_type": "stream",
     "text": [
      "Общая длина: 3870478\n"
     ]
    }
   ],
   "source": [
    "print(\"Общая длина:\", clos['len'].sum())"
   ]
  },
  {
   "cell_type": "code",
   "execution_count": 17,
   "id": "a7764e4d",
   "metadata": {},
   "outputs": [
    {
     "name": "stdout",
     "output_type": "stream",
     "text": [
      "N50 = 173397\n"
     ]
    }
   ],
   "source": [
    "summ = 0\n",
    "for elem in clos['len']:\n",
    "    summ += elem\n",
    "    if summ >= (clos['len'].sum() / 2):\n",
    "        print(\"N50 =\", elem)\n",
    "        break"
   ]
  },
  {
   "cell_type": "code",
   "execution_count": 18,
   "id": "d3979316",
   "metadata": {},
   "outputs": [
    {
     "name": "stdout",
     "output_type": "stream",
     "text": [
      "Число гэпов: 0\n"
     ]
    }
   ],
   "source": [
    "print(\"Число гэпов:\", len(re.findall(\"N+\", clos['sequence'][0])))"
   ]
  },
  {
   "cell_type": "code",
   "execution_count": 19,
   "id": "94cf3c44",
   "metadata": {},
   "outputs": [
    {
     "name": "stdout",
     "output_type": "stream",
     "text": [
      "Суммарная длина гэпов: 0\n"
     ]
    }
   ],
   "source": [
    "print(\"Суммарная длина гэпов:\", clos['sequence'][0].count(\"N\"))"
   ]
  },
  {
   "cell_type": "markdown",
   "id": "1bfb0aa6",
   "metadata": {},
   "source": [
    "Сохраняем самый длинный скаффолд"
   ]
  },
  {
   "cell_type": "code",
   "execution_count": 20,
   "id": "98f82965",
   "metadata": {},
   "outputs": [
    {
     "data": {
      "text/plain": [
       "1"
      ]
     },
     "execution_count": 20,
     "metadata": {},
     "output_type": "execute_result"
    }
   ],
   "source": [
    "seq = Seq(clos['sequence'][0])\n",
    "seq_rec = SeqRecord(seq, id=\"The_longest_scaffold\", description=\"\")\n",
    "SeqIO.write(seq_rec, \"longest.fasta\", \"fasta\")"
   ]
  },
  {
   "cell_type": "markdown",
   "id": "ea9b2ddd",
   "metadata": {},
   "source": [
    "Необязательная часть\n",
    "\n",
    "Возьмём 2 млн paired-end ридов и 500 тыс. mate-pairs ридов"
   ]
  },
  {
   "cell_type": "code",
   "execution_count": 21,
   "id": "487e6345",
   "metadata": {},
   "outputs": [],
   "source": [
    "a_cont = data(\"add/trim/Poil_contig.fa\")\n",
    "a_scaf = data(\"add/trim/Poil_scaffold.fa\")\n",
    "a_clos = data(\"add/trim/Poil_gapClosed.fa\")"
   ]
  },
  {
   "cell_type": "code",
   "execution_count": 22,
   "id": "db0a5d0d",
   "metadata": {},
   "outputs": [
    {
     "name": "stdout",
     "output_type": "stream",
     "text": [
      "Всего контигов: 725\n",
      "Размер самого длинного контига: 235804\n",
      "Общая длина: 3920791\n",
      "N50 = 81379\n"
     ]
    }
   ],
   "source": [
    "# Контиги\n",
    "print(\"Всего контигов:\", len(a_cont))\n",
    "print(\"Размер самого длинного контига:\", len(a_cont.iloc[0,1]))\n",
    "print(\"Общая длина:\", a_cont['len'].sum())\n",
    "summ = 0\n",
    "for elem in a_cont['len']:\n",
    "    summ += elem\n",
    "    if summ >= (a_cont['len'].sum() / 2):\n",
    "        print(\"N50 =\", elem)\n",
    "        break"
   ]
  },
  {
   "cell_type": "code",
   "execution_count": 23,
   "id": "cccac21b",
   "metadata": {},
   "outputs": [
    {
     "name": "stdout",
     "output_type": "stream",
     "text": [
      "Всего скаффолдов: 113\n",
      "Размер самого длинного скаффолда: 383419\n",
      "Общая длина: 3860910\n",
      "N50 = 173286\n",
      "Число гэпов: 6\n",
      "Суммарная длина гэпов: 179\n"
     ]
    }
   ],
   "source": [
    "# Скаффолды\n",
    "print(\"Всего скаффолдов:\", len(a_scaf))\n",
    "print(\"Размер самого длинного скаффолда:\", len(a_scaf.iloc[0,1]))\n",
    "print(\"Общая длина:\", a_scaf['len'].sum())\n",
    "summ = 0\n",
    "for elem in a_scaf['len']:\n",
    "    summ += elem\n",
    "    if summ >= (a_scaf['len'].sum() / 2):\n",
    "        print(\"N50 =\", elem)\n",
    "        break\n",
    "print(\"Число гэпов:\", len(re.findall(\"N+\", a_scaf['sequence'][0])))\n",
    "print(\"Суммарная длина гэпов:\", a_scaf['sequence'][0].count(\"N\"))"
   ]
  },
  {
   "cell_type": "code",
   "execution_count": 24,
   "id": "0a7f368a",
   "metadata": {
    "scrolled": true
   },
   "outputs": [
    {
     "name": "stdout",
     "output_type": "stream",
     "text": [
      "Всего скаффолдов: 113\n",
      "Размер самого длинного скаффолда: 383385\n",
      "Общая длина: 3860685\n",
      "N50 = 173286\n",
      "Число гэпов: 2\n",
      "Суммарная длина гэпов: 94\n"
     ]
    }
   ],
   "source": [
    "# Скаффолды после удаления гэпов\n",
    "print(\"Всего скаффолдов:\", len(a_clos))\n",
    "print(\"Размер самого длинного скаффолда:\", len(a_clos.iloc[0,1]))\n",
    "print(\"Общая длина:\", a_clos['len'].sum())\n",
    "summ = 0\n",
    "for elem in a_clos['len']:\n",
    "    summ += elem\n",
    "    if summ >= (a_clos['len'].sum() / 2):\n",
    "        print(\"N50 =\", elem)\n",
    "        break\n",
    "print(\"Число гэпов:\", len(re.findall(\"N+\", a_clos['sequence'][0])))\n",
    "print(\"Суммарная длина гэпов:\", a_clos['sequence'][0].count(\"N\"))"
   ]
  }
 ],
 "metadata": {
  "kernelspec": {
   "display_name": "Python 3",
   "language": "python",
   "name": "python3"
  },
  "language_info": {
   "codemirror_mode": {
    "name": "ipython",
    "version": 3
   },
   "file_extension": ".py",
   "mimetype": "text/x-python",
   "name": "python",
   "nbconvert_exporter": "python",
   "pygments_lexer": "ipython3",
   "version": "3.6.9"
  }
 },
 "nbformat": 4,
 "nbformat_minor": 5
}
